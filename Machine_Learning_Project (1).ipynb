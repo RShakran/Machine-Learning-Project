{
  "cells": [
    {
      "cell_type": "markdown",
      "metadata": {
        "id": "FxiWDNZ1V8sl"
      },
      "source": [
        "# **Credit Card Fraud Detection**\n",
        "\n",
        "Credit card fraud detection is an important issue in the field of financial transactions. Fraud can occur in various ways, such as through the physical theft of a card, or through the use of stolen card information for online transactions. It is important to detect and prevent credit card fraud, as it can lead to significant financial losses for both cardholders and financial institutions.\n",
        "\n",
        "In the field of credit card fraud detection, machine learning algorithms have been widely used to identify fraudulent transactions. These algorithms are able to analyze large amounts of data and identify patterns that may indicate fraudulent activity.\n",
        "\n",
        "In our project we used a dataset containing credit card transaction information was used. This dataset had 5 rows and 31 columns, and a total of 284,807 data points. In addition to splitting the data into training and test sets and applying machine learning models, the project also involved pre-processing the data. This included dropping unwanted columns, as well as visualizing and exploring the data to better understand its characteristics\n",
        "\n",
        "Pre-processing the data is an important step in any machine learning project, as it can help to improve the accuracy of the models. By removing unnecessary or irrelevant columns, the data is cleaned and made more manageable, which can lead to more efficient model training and better performance.\n",
        "\n",
        "Visualizing the data can also be helpful in understanding its characteristics and identifying any patterns or trends that may be relevant to the task at hand. This can inform the choice of machine learning algorithms and techniques, as well as help to identify any issues or challenges that may need to be addressed.\n",
        "\n",
        "The performance of these models was evaluated using the receiver operating characteristic (ROC) curve and the area under the curve (AUC) metric. The classification report was also used to evaluate the models.\n",
        "\n",
        "Three machine learning models were applied: K-Nearest Neighbors (KNN), Decision Tree, and Random Forest.\n",
        "\n",
        "To address the issue of class imbalance in the dataset (where the number of fraudulent transactions is much smaller than the number of legitimate transactions), the Synthetic Minority Oversampling Technique (SMOTE) was applied. This technique synthesizes new data points for the minority class (fraudulent transactions) in order to balance the dataset.\n",
        "\n",
        "After applying SMOTE and re-running the three models, the Random Forest model was found to be the best performer.\n",
        "\n",
        "Overall, the use of machine learning algorithms and techniques such as SMOTE can be effective in detecting credit card fraud. It is important to carefully evaluate the performance of different models and choose the one that best fits the specific characteristics of the dataset."
      ]
    },
    {
      "cell_type": "code",
      "execution_count": 1,
      "metadata": {
        "id": "TJwv_bJnh-TB"
      },
      "outputs": [],
      "source": [
        "import numpy as np\n",
        "import pandas as pd\n",
        "\n",
        "import matplotlib.pyplot as plt\n",
        "%matplotlib inline\n",
        "import seaborn as sns\n",
        "\n",
        "from sklearn import metrics\n",
        "from sklearn import preprocessing\n",
        "from sklearn.model_selection  import cross_val_score\n",
        "\n",
        "from sklearn import model_selection\n",
        "from sklearn.model_selection import train_test_split\n",
        "\n",
        "from sklearn.metrics import roc_curve\n",
        "from sklearn.metrics import roc_auc_score\n",
        "from sklearn.metrics import plot_roc_curve\n",
        "from sklearn.metrics import classification_report"
      ]
    },
    {
      "cell_type": "code",
      "execution_count": 2,
      "metadata": {
        "colab": {
          "base_uri": "https://localhost:8080/",
          "height": 235
        },
        "id": "B8Z7-UZbbsdT",
        "outputId": "123efef0-7556-4a19-f039-47930e04340f"
      },
      "outputs": [
        {
          "output_type": "execute_result",
          "data": {
            "text/plain": [
              "   Time        V1        V2        V3        V4        V5        V6        V7  \\\n",
              "0   0.0 -1.359807 -0.072781  2.536347  1.378155 -0.338321  0.462388  0.239599   \n",
              "1   0.0  1.191857  0.266151  0.166480  0.448154  0.060018 -0.082361 -0.078803   \n",
              "2   1.0 -1.358354 -1.340163  1.773209  0.379780 -0.503198  1.800499  0.791461   \n",
              "3   1.0 -0.966272 -0.185226  1.792993 -0.863291 -0.010309  1.247203  0.237609   \n",
              "4   2.0 -1.158233  0.877737  1.548718  0.403034 -0.407193  0.095921  0.592941   \n",
              "\n",
              "         V8        V9  ...       V21       V22       V23       V24       V25  \\\n",
              "0  0.098698  0.363787  ... -0.018307  0.277838 -0.110474  0.066928  0.128539   \n",
              "1  0.085102 -0.255425  ... -0.225775 -0.638672  0.101288 -0.339846  0.167170   \n",
              "2  0.247676 -1.514654  ...  0.247998  0.771679  0.909412 -0.689281 -0.327642   \n",
              "3  0.377436 -1.387024  ... -0.108300  0.005274 -0.190321 -1.175575  0.647376   \n",
              "4 -0.270533  0.817739  ... -0.009431  0.798278 -0.137458  0.141267 -0.206010   \n",
              "\n",
              "        V26       V27       V28  Amount  Class  \n",
              "0 -0.189115  0.133558 -0.021053  149.62      0  \n",
              "1  0.125895 -0.008983  0.014724    2.69      0  \n",
              "2 -0.139097 -0.055353 -0.059752  378.66      0  \n",
              "3 -0.221929  0.062723  0.061458  123.50      0  \n",
              "4  0.502292  0.219422  0.215153   69.99      0  \n",
              "\n",
              "[5 rows x 31 columns]"
            ],
            "text/html": [
              "\n",
              "  <div id=\"df-d50a5380-74ae-4ba9-93e4-c2bbcc172a42\">\n",
              "    <div class=\"colab-df-container\">\n",
              "      <div>\n",
              "<style scoped>\n",
              "    .dataframe tbody tr th:only-of-type {\n",
              "        vertical-align: middle;\n",
              "    }\n",
              "\n",
              "    .dataframe tbody tr th {\n",
              "        vertical-align: top;\n",
              "    }\n",
              "\n",
              "    .dataframe thead th {\n",
              "        text-align: right;\n",
              "    }\n",
              "</style>\n",
              "<table border=\"1\" class=\"dataframe\">\n",
              "  <thead>\n",
              "    <tr style=\"text-align: right;\">\n",
              "      <th></th>\n",
              "      <th>Time</th>\n",
              "      <th>V1</th>\n",
              "      <th>V2</th>\n",
              "      <th>V3</th>\n",
              "      <th>V4</th>\n",
              "      <th>V5</th>\n",
              "      <th>V6</th>\n",
              "      <th>V7</th>\n",
              "      <th>V8</th>\n",
              "      <th>V9</th>\n",
              "      <th>...</th>\n",
              "      <th>V21</th>\n",
              "      <th>V22</th>\n",
              "      <th>V23</th>\n",
              "      <th>V24</th>\n",
              "      <th>V25</th>\n",
              "      <th>V26</th>\n",
              "      <th>V27</th>\n",
              "      <th>V28</th>\n",
              "      <th>Amount</th>\n",
              "      <th>Class</th>\n",
              "    </tr>\n",
              "  </thead>\n",
              "  <tbody>\n",
              "    <tr>\n",
              "      <th>0</th>\n",
              "      <td>0.0</td>\n",
              "      <td>-1.359807</td>\n",
              "      <td>-0.072781</td>\n",
              "      <td>2.536347</td>\n",
              "      <td>1.378155</td>\n",
              "      <td>-0.338321</td>\n",
              "      <td>0.462388</td>\n",
              "      <td>0.239599</td>\n",
              "      <td>0.098698</td>\n",
              "      <td>0.363787</td>\n",
              "      <td>...</td>\n",
              "      <td>-0.018307</td>\n",
              "      <td>0.277838</td>\n",
              "      <td>-0.110474</td>\n",
              "      <td>0.066928</td>\n",
              "      <td>0.128539</td>\n",
              "      <td>-0.189115</td>\n",
              "      <td>0.133558</td>\n",
              "      <td>-0.021053</td>\n",
              "      <td>149.62</td>\n",
              "      <td>0</td>\n",
              "    </tr>\n",
              "    <tr>\n",
              "      <th>1</th>\n",
              "      <td>0.0</td>\n",
              "      <td>1.191857</td>\n",
              "      <td>0.266151</td>\n",
              "      <td>0.166480</td>\n",
              "      <td>0.448154</td>\n",
              "      <td>0.060018</td>\n",
              "      <td>-0.082361</td>\n",
              "      <td>-0.078803</td>\n",
              "      <td>0.085102</td>\n",
              "      <td>-0.255425</td>\n",
              "      <td>...</td>\n",
              "      <td>-0.225775</td>\n",
              "      <td>-0.638672</td>\n",
              "      <td>0.101288</td>\n",
              "      <td>-0.339846</td>\n",
              "      <td>0.167170</td>\n",
              "      <td>0.125895</td>\n",
              "      <td>-0.008983</td>\n",
              "      <td>0.014724</td>\n",
              "      <td>2.69</td>\n",
              "      <td>0</td>\n",
              "    </tr>\n",
              "    <tr>\n",
              "      <th>2</th>\n",
              "      <td>1.0</td>\n",
              "      <td>-1.358354</td>\n",
              "      <td>-1.340163</td>\n",
              "      <td>1.773209</td>\n",
              "      <td>0.379780</td>\n",
              "      <td>-0.503198</td>\n",
              "      <td>1.800499</td>\n",
              "      <td>0.791461</td>\n",
              "      <td>0.247676</td>\n",
              "      <td>-1.514654</td>\n",
              "      <td>...</td>\n",
              "      <td>0.247998</td>\n",
              "      <td>0.771679</td>\n",
              "      <td>0.909412</td>\n",
              "      <td>-0.689281</td>\n",
              "      <td>-0.327642</td>\n",
              "      <td>-0.139097</td>\n",
              "      <td>-0.055353</td>\n",
              "      <td>-0.059752</td>\n",
              "      <td>378.66</td>\n",
              "      <td>0</td>\n",
              "    </tr>\n",
              "    <tr>\n",
              "      <th>3</th>\n",
              "      <td>1.0</td>\n",
              "      <td>-0.966272</td>\n",
              "      <td>-0.185226</td>\n",
              "      <td>1.792993</td>\n",
              "      <td>-0.863291</td>\n",
              "      <td>-0.010309</td>\n",
              "      <td>1.247203</td>\n",
              "      <td>0.237609</td>\n",
              "      <td>0.377436</td>\n",
              "      <td>-1.387024</td>\n",
              "      <td>...</td>\n",
              "      <td>-0.108300</td>\n",
              "      <td>0.005274</td>\n",
              "      <td>-0.190321</td>\n",
              "      <td>-1.175575</td>\n",
              "      <td>0.647376</td>\n",
              "      <td>-0.221929</td>\n",
              "      <td>0.062723</td>\n",
              "      <td>0.061458</td>\n",
              "      <td>123.50</td>\n",
              "      <td>0</td>\n",
              "    </tr>\n",
              "    <tr>\n",
              "      <th>4</th>\n",
              "      <td>2.0</td>\n",
              "      <td>-1.158233</td>\n",
              "      <td>0.877737</td>\n",
              "      <td>1.548718</td>\n",
              "      <td>0.403034</td>\n",
              "      <td>-0.407193</td>\n",
              "      <td>0.095921</td>\n",
              "      <td>0.592941</td>\n",
              "      <td>-0.270533</td>\n",
              "      <td>0.817739</td>\n",
              "      <td>...</td>\n",
              "      <td>-0.009431</td>\n",
              "      <td>0.798278</td>\n",
              "      <td>-0.137458</td>\n",
              "      <td>0.141267</td>\n",
              "      <td>-0.206010</td>\n",
              "      <td>0.502292</td>\n",
              "      <td>0.219422</td>\n",
              "      <td>0.215153</td>\n",
              "      <td>69.99</td>\n",
              "      <td>0</td>\n",
              "    </tr>\n",
              "  </tbody>\n",
              "</table>\n",
              "<p>5 rows × 31 columns</p>\n",
              "</div>\n",
              "      <button class=\"colab-df-convert\" onclick=\"convertToInteractive('df-d50a5380-74ae-4ba9-93e4-c2bbcc172a42')\"\n",
              "              title=\"Convert this dataframe to an interactive table.\"\n",
              "              style=\"display:none;\">\n",
              "        \n",
              "  <svg xmlns=\"http://www.w3.org/2000/svg\" height=\"24px\"viewBox=\"0 0 24 24\"\n",
              "       width=\"24px\">\n",
              "    <path d=\"M0 0h24v24H0V0z\" fill=\"none\"/>\n",
              "    <path d=\"M18.56 5.44l.94 2.06.94-2.06 2.06-.94-2.06-.94-.94-2.06-.94 2.06-2.06.94zm-11 1L8.5 8.5l.94-2.06 2.06-.94-2.06-.94L8.5 2.5l-.94 2.06-2.06.94zm10 10l.94 2.06.94-2.06 2.06-.94-2.06-.94-.94-2.06-.94 2.06-2.06.94z\"/><path d=\"M17.41 7.96l-1.37-1.37c-.4-.4-.92-.59-1.43-.59-.52 0-1.04.2-1.43.59L10.3 9.45l-7.72 7.72c-.78.78-.78 2.05 0 2.83L4 21.41c.39.39.9.59 1.41.59.51 0 1.02-.2 1.41-.59l7.78-7.78 2.81-2.81c.8-.78.8-2.07 0-2.86zM5.41 20L4 18.59l7.72-7.72 1.47 1.35L5.41 20z\"/>\n",
              "  </svg>\n",
              "      </button>\n",
              "      \n",
              "  <style>\n",
              "    .colab-df-container {\n",
              "      display:flex;\n",
              "      flex-wrap:wrap;\n",
              "      gap: 12px;\n",
              "    }\n",
              "\n",
              "    .colab-df-convert {\n",
              "      background-color: #E8F0FE;\n",
              "      border: none;\n",
              "      border-radius: 50%;\n",
              "      cursor: pointer;\n",
              "      display: none;\n",
              "      fill: #1967D2;\n",
              "      height: 32px;\n",
              "      padding: 0 0 0 0;\n",
              "      width: 32px;\n",
              "    }\n",
              "\n",
              "    .colab-df-convert:hover {\n",
              "      background-color: #E2EBFA;\n",
              "      box-shadow: 0px 1px 2px rgba(60, 64, 67, 0.3), 0px 1px 3px 1px rgba(60, 64, 67, 0.15);\n",
              "      fill: #174EA6;\n",
              "    }\n",
              "\n",
              "    [theme=dark] .colab-df-convert {\n",
              "      background-color: #3B4455;\n",
              "      fill: #D2E3FC;\n",
              "    }\n",
              "\n",
              "    [theme=dark] .colab-df-convert:hover {\n",
              "      background-color: #434B5C;\n",
              "      box-shadow: 0px 1px 3px 1px rgba(0, 0, 0, 0.15);\n",
              "      filter: drop-shadow(0px 1px 2px rgba(0, 0, 0, 0.3));\n",
              "      fill: #FFFFFF;\n",
              "    }\n",
              "  </style>\n",
              "\n",
              "      <script>\n",
              "        const buttonEl =\n",
              "          document.querySelector('#df-d50a5380-74ae-4ba9-93e4-c2bbcc172a42 button.colab-df-convert');\n",
              "        buttonEl.style.display =\n",
              "          google.colab.kernel.accessAllowed ? 'block' : 'none';\n",
              "\n",
              "        async function convertToInteractive(key) {\n",
              "          const element = document.querySelector('#df-d50a5380-74ae-4ba9-93e4-c2bbcc172a42');\n",
              "          const dataTable =\n",
              "            await google.colab.kernel.invokeFunction('convertToInteractive',\n",
              "                                                     [key], {});\n",
              "          if (!dataTable) return;\n",
              "\n",
              "          const docLinkHtml = 'Like what you see? Visit the ' +\n",
              "            '<a target=\"_blank\" href=https://colab.research.google.com/notebooks/data_table.ipynb>data table notebook</a>'\n",
              "            + ' to learn more about interactive tables.';\n",
              "          element.innerHTML = '';\n",
              "          dataTable['output_type'] = 'display_data';\n",
              "          await google.colab.output.renderOutput(dataTable, element);\n",
              "          const docLink = document.createElement('div');\n",
              "          docLink.innerHTML = docLinkHtml;\n",
              "          element.appendChild(docLink);\n",
              "        }\n",
              "      </script>\n",
              "    </div>\n",
              "  </div>\n",
              "  "
            ]
          },
          "metadata": {},
          "execution_count": 2
        }
      ],
      "source": [
        "df = pd.read_csv('/content/drive/MyDrive/creditcard.csv')\n",
        "df.head()"
      ]
    },
    {
      "cell_type": "code",
      "execution_count": 3,
      "metadata": {
        "colab": {
          "base_uri": "https://localhost:8080/"
        },
        "id": "CkfyhNRtciBE",
        "outputId": "f5f86069-077d-4c4a-bedb-35ccfdc8e9bf"
      },
      "outputs": [
        {
          "output_type": "stream",
          "name": "stdout",
          "text": [
            "<class 'pandas.core.frame.DataFrame'>\n",
            "RangeIndex: 284807 entries, 0 to 284806\n",
            "Data columns (total 31 columns):\n",
            " #   Column  Non-Null Count   Dtype  \n",
            "---  ------  --------------   -----  \n",
            " 0   Time    284807 non-null  float64\n",
            " 1   V1      284807 non-null  float64\n",
            " 2   V2      284807 non-null  float64\n",
            " 3   V3      284807 non-null  float64\n",
            " 4   V4      284807 non-null  float64\n",
            " 5   V5      284807 non-null  float64\n",
            " 6   V6      284807 non-null  float64\n",
            " 7   V7      284807 non-null  float64\n",
            " 8   V8      284807 non-null  float64\n",
            " 9   V9      284807 non-null  float64\n",
            " 10  V10     284807 non-null  float64\n",
            " 11  V11     284807 non-null  float64\n",
            " 12  V12     284807 non-null  float64\n",
            " 13  V13     284807 non-null  float64\n",
            " 14  V14     284807 non-null  float64\n",
            " 15  V15     284807 non-null  float64\n",
            " 16  V16     284807 non-null  float64\n",
            " 17  V17     284807 non-null  float64\n",
            " 18  V18     284807 non-null  float64\n",
            " 19  V19     284807 non-null  float64\n",
            " 20  V20     284807 non-null  float64\n",
            " 21  V21     284807 non-null  float64\n",
            " 22  V22     284807 non-null  float64\n",
            " 23  V23     284807 non-null  float64\n",
            " 24  V24     284807 non-null  float64\n",
            " 25  V25     284807 non-null  float64\n",
            " 26  V26     284807 non-null  float64\n",
            " 27  V27     284807 non-null  float64\n",
            " 28  V28     284807 non-null  float64\n",
            " 29  Amount  284807 non-null  float64\n",
            " 30  Class   284807 non-null  int64  \n",
            "dtypes: float64(30), int64(1)\n",
            "memory usage: 67.4 MB\n"
          ]
        }
      ],
      "source": [
        "df.info()"
      ]
    },
    {
      "cell_type": "markdown",
      "metadata": {
        "id": "TGn-8C1Bctwe"
      },
      "source": [
        "**The data does not have any null value**\n"
      ]
    },
    {
      "cell_type": "markdown",
      "metadata": {
        "id": "N7c7KtpmdSJU"
      },
      "source": [
        "# Datatype of the \"Class\"\n",
        "We Should change this class to a categorical to make the\n",
        "Fraudulent are 1s, Non-Fraudulent are 0s"
      ]
    },
    {
      "cell_type": "code",
      "execution_count": 4,
      "metadata": {
        "colab": {
          "base_uri": "https://localhost:8080/"
        },
        "id": "K-tm-g3Xc7MI",
        "outputId": "f93b754c-f4a4-4b68-cb3e-e8a252ff45e8"
      },
      "outputs": [
        {
          "output_type": "execute_result",
          "data": {
            "text/plain": [
              "0         Non_Fraudulent\n",
              "1         Non_Fraudulent\n",
              "2         Non_Fraudulent\n",
              "3         Non_Fraudulent\n",
              "4         Non_Fraudulent\n",
              "               ...      \n",
              "284802    Non_Fraudulent\n",
              "284803    Non_Fraudulent\n",
              "284804    Non_Fraudulent\n",
              "284805    Non_Fraudulent\n",
              "284806    Non_Fraudulent\n",
              "Name: Class, Length: 284807, dtype: category\n",
              "Categories (2, object): ['Non_Fraudulent', 'Fraudulent']"
            ]
          },
          "metadata": {},
          "execution_count": 4
        }
      ],
      "source": [
        "#Changing the data type of Class\n",
        "\n",
        "df['Class'] = df['Class'].astype('category')\n",
        "\n",
        "#Renaming the classes\n",
        "df['Class'] = df['Class'].cat.rename_categories({1:'Fraudulent',0:'Non_Fraudulent'})\n",
        "\n",
        "df['Class']"
      ]
    },
    {
      "cell_type": "markdown",
      "metadata": {
        "id": "PE-DXQBXeHP6"
      },
      "source": [
        "# Observation of our classes"
      ]
    },
    {
      "cell_type": "code",
      "execution_count": 5,
      "metadata": {
        "colab": {
          "base_uri": "https://localhost:8080/"
        },
        "id": "ohcDb8EQepXh",
        "outputId": "91db166a-45f7-4e55-958b-f850bdab3bf6"
      },
      "outputs": [
        {
          "output_type": "stream",
          "name": "stdout",
          "text": [
            "99.82725143693798\n",
            "0.1727485630620034\n"
          ]
        }
      ],
      "source": [
        "#Getting the frequency of each class in the column\n",
        "classes = df['Class'].value_counts()\n",
        "\n",
        "#Calculating the percentages of each class\n",
        "non_fraudulent_share = classes[0]/df['Class'].count()*100\n",
        "print(non_fraudulent_share)\n",
        "fraud_share = classes[1]/df['Class'].count()*100\n",
        "print(fraud_share)"
      ]
    },
    {
      "cell_type": "code",
      "execution_count": 6,
      "metadata": {
        "colab": {
          "base_uri": "https://localhost:8080/",
          "height": 112
        },
        "id": "jnPPhbJje_ia",
        "outputId": "2a64b5b2-3859-41c8-d3ed-924cb80aed9b"
      },
      "outputs": [
        {
          "output_type": "execute_result",
          "data": {
            "text/plain": [
              "            Class  Percentage\n",
              "0      fraudulent    0.172749\n",
              "1  non_fraudulent   99.827251"
            ],
            "text/html": [
              "\n",
              "  <div id=\"df-37078b68-fef1-4e8b-94af-ef08c21afe8a\">\n",
              "    <div class=\"colab-df-container\">\n",
              "      <div>\n",
              "<style scoped>\n",
              "    .dataframe tbody tr th:only-of-type {\n",
              "        vertical-align: middle;\n",
              "    }\n",
              "\n",
              "    .dataframe tbody tr th {\n",
              "        vertical-align: top;\n",
              "    }\n",
              "\n",
              "    .dataframe thead th {\n",
              "        text-align: right;\n",
              "    }\n",
              "</style>\n",
              "<table border=\"1\" class=\"dataframe\">\n",
              "  <thead>\n",
              "    <tr style=\"text-align: right;\">\n",
              "      <th></th>\n",
              "      <th>Class</th>\n",
              "      <th>Percentage</th>\n",
              "    </tr>\n",
              "  </thead>\n",
              "  <tbody>\n",
              "    <tr>\n",
              "      <th>0</th>\n",
              "      <td>fraudulent</td>\n",
              "      <td>0.172749</td>\n",
              "    </tr>\n",
              "    <tr>\n",
              "      <th>1</th>\n",
              "      <td>non_fraudulent</td>\n",
              "      <td>99.827251</td>\n",
              "    </tr>\n",
              "  </tbody>\n",
              "</table>\n",
              "</div>\n",
              "      <button class=\"colab-df-convert\" onclick=\"convertToInteractive('df-37078b68-fef1-4e8b-94af-ef08c21afe8a')\"\n",
              "              title=\"Convert this dataframe to an interactive table.\"\n",
              "              style=\"display:none;\">\n",
              "        \n",
              "  <svg xmlns=\"http://www.w3.org/2000/svg\" height=\"24px\"viewBox=\"0 0 24 24\"\n",
              "       width=\"24px\">\n",
              "    <path d=\"M0 0h24v24H0V0z\" fill=\"none\"/>\n",
              "    <path d=\"M18.56 5.44l.94 2.06.94-2.06 2.06-.94-2.06-.94-.94-2.06-.94 2.06-2.06.94zm-11 1L8.5 8.5l.94-2.06 2.06-.94-2.06-.94L8.5 2.5l-.94 2.06-2.06.94zm10 10l.94 2.06.94-2.06 2.06-.94-2.06-.94-.94-2.06-.94 2.06-2.06.94z\"/><path d=\"M17.41 7.96l-1.37-1.37c-.4-.4-.92-.59-1.43-.59-.52 0-1.04.2-1.43.59L10.3 9.45l-7.72 7.72c-.78.78-.78 2.05 0 2.83L4 21.41c.39.39.9.59 1.41.59.51 0 1.02-.2 1.41-.59l7.78-7.78 2.81-2.81c.8-.78.8-2.07 0-2.86zM5.41 20L4 18.59l7.72-7.72 1.47 1.35L5.41 20z\"/>\n",
              "  </svg>\n",
              "      </button>\n",
              "      \n",
              "  <style>\n",
              "    .colab-df-container {\n",
              "      display:flex;\n",
              "      flex-wrap:wrap;\n",
              "      gap: 12px;\n",
              "    }\n",
              "\n",
              "    .colab-df-convert {\n",
              "      background-color: #E8F0FE;\n",
              "      border: none;\n",
              "      border-radius: 50%;\n",
              "      cursor: pointer;\n",
              "      display: none;\n",
              "      fill: #1967D2;\n",
              "      height: 32px;\n",
              "      padding: 0 0 0 0;\n",
              "      width: 32px;\n",
              "    }\n",
              "\n",
              "    .colab-df-convert:hover {\n",
              "      background-color: #E2EBFA;\n",
              "      box-shadow: 0px 1px 2px rgba(60, 64, 67, 0.3), 0px 1px 3px 1px rgba(60, 64, 67, 0.15);\n",
              "      fill: #174EA6;\n",
              "    }\n",
              "\n",
              "    [theme=dark] .colab-df-convert {\n",
              "      background-color: #3B4455;\n",
              "      fill: #D2E3FC;\n",
              "    }\n",
              "\n",
              "    [theme=dark] .colab-df-convert:hover {\n",
              "      background-color: #434B5C;\n",
              "      box-shadow: 0px 1px 3px 1px rgba(0, 0, 0, 0.15);\n",
              "      filter: drop-shadow(0px 1px 2px rgba(0, 0, 0, 0.3));\n",
              "      fill: #FFFFFF;\n",
              "    }\n",
              "  </style>\n",
              "\n",
              "      <script>\n",
              "        const buttonEl =\n",
              "          document.querySelector('#df-37078b68-fef1-4e8b-94af-ef08c21afe8a button.colab-df-convert');\n",
              "        buttonEl.style.display =\n",
              "          google.colab.kernel.accessAllowed ? 'block' : 'none';\n",
              "\n",
              "        async function convertToInteractive(key) {\n",
              "          const element = document.querySelector('#df-37078b68-fef1-4e8b-94af-ef08c21afe8a');\n",
              "          const dataTable =\n",
              "            await google.colab.kernel.invokeFunction('convertToInteractive',\n",
              "                                                     [key], {});\n",
              "          if (!dataTable) return;\n",
              "\n",
              "          const docLinkHtml = 'Like what you see? Visit the ' +\n",
              "            '<a target=\"_blank\" href=https://colab.research.google.com/notebooks/data_table.ipynb>data table notebook</a>'\n",
              "            + ' to learn more about interactive tables.';\n",
              "          element.innerHTML = '';\n",
              "          dataTable['output_type'] = 'display_data';\n",
              "          await google.colab.output.renderOutput(dataTable, element);\n",
              "          const docLink = document.createElement('div');\n",
              "          docLink.innerHTML = docLinkHtml;\n",
              "          element.appendChild(docLink);\n",
              "        }\n",
              "      </script>\n",
              "    </div>\n",
              "  </div>\n",
              "  "
            ]
          },
          "metadata": {},
          "execution_count": 6
        }
      ],
      "source": [
        "#Creating a df for percentage of each class\n",
        "class_share = {'Class':['fraudulent','non_fraudulent'],'Percentage':[fraud_share,non_fraudulent_share]}\n",
        "class_share = pd.DataFrame(class_share)\n",
        "class_share.head()"
      ]
    },
    {
      "cell_type": "markdown",
      "metadata": {
        "id": "ZHqJqn9lg2gb"
      },
      "source": [
        "# Data Visualization"
      ]
    },
    {
      "cell_type": "markdown",
      "metadata": {
        "id": "hypg84UmitVZ"
      },
      "source": [
        "**Bar plot**"
      ]
    },
    {
      "cell_type": "code",
      "execution_count": 7,
      "metadata": {
        "colab": {
          "base_uri": "https://localhost:8080/",
          "height": 461
        },
        "id": "670XCB_2g8Wo",
        "outputId": "8d958d34-42a2-4c7a-aa7a-d07104cd06a1"
      },
      "outputs": [
        {
          "output_type": "stream",
          "name": "stderr",
          "text": [
            "/usr/local/lib/python3.8/dist-packages/seaborn/_decorators.py:36: FutureWarning: Pass the following variable as a keyword arg: x. From version 0.12, the only valid positional argument will be `data`, and passing other arguments without an explicit keyword will result in an error or misinterpretation.\n",
            "  warnings.warn(\n"
          ]
        },
        {
          "output_type": "display_data",
          "data": {
            "text/plain": [
              "<Figure size 1008x432 with 2 Axes>"
            ],
            "image/png": "[encoded data removed]"
          },
          "metadata": {
            "needs_background": "light"
          }
        }
      ],
      "source": [
        "# Creating a bar plot for the number and percentage of fraudulent vs non-fraudulent transcations\n",
        "\n",
        "sns.set_palette(\"dark\")\n",
        "\n",
        "# Create a figure with two subplots\n",
        "plt.figure(figsize=(14,6))\n",
        "\n",
        "# Plot the number of fraudulent and non-fraudulent transactions in the first subplot\n",
        "plt.subplot(121)\n",
        "sns.countplot('Class',data=df)\n",
        "plt.title('No. of fraudulent vs non-fraudulent')\n",
        "\n",
        "# Plot the percentage of fraudulent and non-fraudulent transactions in the second subplot\n",
        "plt.subplot(122)\n",
        "sns.barplot(x='Class', y='Percentage',data=class_share)\n",
        "plt.title('% of fraudulent vs non-fraudulent')\n",
        "\n",
        "# Show the figure with both subplots\n",
        "plt.show()"
      ]
    },
    {
      "cell_type": "markdown",
      "metadata": {
        "id": "Zibz-wGWi9kf"
      },
      "source": [
        "**Insights**: on the above plot, There are significantly fewer fraudulent cases compared to non-fraudulent cases in the dataset. This results in an imbalanced dataset"
      ]
    },
    {
      "cell_type": "markdown",
      "metadata": {
        "id": "wWxXPczCi1F4"
      },
      "source": [
        "**Scatter Plot**"
      ]
    },
    {
      "cell_type": "code",
      "execution_count": 8,
      "metadata": {
        "colab": {
          "base_uri": "https://localhost:8080/",
          "height": 420
        },
        "id": "imjHbdkziGpI",
        "outputId": "3eb5d6d4-bd47-4b1b-fb98-e61a2ecc28a3"
      },
      "outputs": [
        {
          "output_type": "display_data",
          "data": {
            "text/plain": [
              "<Figure size 720x432 with 1 Axes>"
            ],
            "image/png": "[encoded data removed]"
          },
          "metadata": {
            "needs_background": "light"
          }
        }
      ],
      "source": [
        "# Create a scatter plot for the distribution of classes over time\n",
        "plt.figure(figsize=(10,6))\n",
        "sns.stripplot(x= 'Class', y= 'Time',data=df)\n",
        "plt.title('Distribution of Classes with Time\\n (0: Non-Fraudulent || 1: Fraudulent)')\n",
        "plt.show()"
      ]
    },
    {
      "cell_type": "markdown",
      "metadata": {
        "id": "yX3U_G1mj-88"
      },
      "source": [
        "**Insights**: The plot does not reveal any particular pattern or trend in the distribution of fraudulent transactions over time. Fraudulent transactions appear to occur randomly."
      ]
    },
    {
      "cell_type": "code",
      "execution_count": 9,
      "metadata": {
        "colab": {
          "base_uri": "https://localhost:8080/",
          "height": 405
        },
        "id": "ftcpIt0akCI0",
        "outputId": "8701621e-9224-43a6-fe16-0ba5dc5ed10a"
      },
      "outputs": [
        {
          "output_type": "display_data",
          "data": {
            "text/plain": [
              "<Figure size 720x432 with 1 Axes>"
            ],
            "image/png": "[encoded data removed]"
          },
          "metadata": {
            "needs_background": "light"
          }
        }
      ],
      "source": [
        "# Create a scatter plot for the distribution of classes over Amount paid\n",
        "\n",
        "plt.figure(figsize=(10,6))\n",
        "sns.stripplot(x= 'Class', y= 'Amount',data=df)\n",
        "plt.title('Distribution of Classes with Amount')\n",
        "plt.show()"
      ]
    },
    {
      "cell_type": "markdown",
      "metadata": {
        "id": "OtQHSWJxkzkW"
      },
      "source": [
        "**Insights**: Fraudulent transactions don't have any large amounts. The highest amount observed in the fraudulent transactions is around $2500."
      ]
    },
    {
      "cell_type": "code",
      "execution_count": 10,
      "metadata": {
        "colab": {
          "base_uri": "https://localhost:8080/"
        },
        "id": "LNj_V2b6lFWx",
        "outputId": "26c09e8c-434b-4515-be21-b9ad6fc9cf2c"
      },
      "outputs": [
        {
          "output_type": "execute_result",
          "data": {
            "text/plain": [
              "(284807, 30)"
            ]
          },
          "metadata": {},
          "execution_count": 10
        }
      ],
      "source": [
        "# Dropping the column 'Time'\n",
        "df=df.drop('Time',axis=1)\n",
        "df.shape "
      ]
    },
    {
      "cell_type": "markdown",
      "metadata": {
        "id": "tLOzayQ5leDH"
      },
      "source": [
        "# Splitting Data into test and train"
      ]
    },
    {
      "cell_type": "code",
      "execution_count": 11,
      "metadata": {
        "id": "1yQuMjT0lVsd"
      },
      "outputs": [],
      "source": [
        "X = df.iloc[:,:-1]\n",
        "y= df.iloc[:,-1] "
      ]
    },
    {
      "cell_type": "code",
      "execution_count": 12,
      "metadata": {
        "id": "WLBZm5Qtl3ag"
      },
      "outputs": [],
      "source": [
        "# Split the data into training and test sets\n",
        "# The stratify = y for ensuring that the proportion of classes in the train and test\n",
        "\n",
        "X_train, X_test, y_train, y_test = train_test_split(X, y, test_size=0.2, random_state=0, stratify=y)"
      ]
    },
    {
      "cell_type": "code",
      "execution_count": 13,
      "metadata": {
        "colab": {
          "base_uri": "https://localhost:8080/"
        },
        "id": "xoOfSizzmRgI",
        "outputId": "98b707e9-4945-4513-88a9-2a5e284535d9"
      },
      "outputs": [
        {
          "output_type": "stream",
          "name": "stdout",
          "text": [
            "Total count for each class:\n",
            " Non_Fraudulent    284315\n",
            "Fraudulent           492\n",
            "Name: Class, dtype: int64\n",
            "\n",
            "Count of each class in train data:\n",
            " Non_Fraudulent    227451\n",
            "Fraudulent           394\n",
            "Name: Class, dtype: int64\n",
            "\n",
            "Count of each class in test data:\n",
            " Non_Fraudulent    56864\n",
            "Fraudulent           98\n",
            "Name: Class, dtype: int64\n"
          ]
        }
      ],
      "source": [
        "# Print the total count of instances for each class in the original dataset\n",
        "print('Total count for each class:\\n', y.value_counts())\n",
        "\n",
        "# Print the count of instances for each class in the training set\n",
        "print(\"\\nCount of each class in train data:\\n\",y_train.value_counts())\n",
        "\n",
        "# Print the count of instances for each class in the test set\n",
        "print(\"\\nCount of each class in test data:\\n\",y_test.value_counts())"
      ]
    },
    {
      "cell_type": "markdown",
      "metadata": {
        "id": "aKvQJ5uInq6-"
      },
      "source": [
        "# **Model performance parameter**"
      ]
    },
    {
      "cell_type": "code",
      "execution_count": 14,
      "metadata": {
        "id": "X6PsQ75YnqrJ"
      },
      "outputs": [],
      "source": [
        "from sklearn.metrics import roc_auc_score, roc_curve, classification_report\n",
        "# Plot the Receiver Operating Characteristic (ROC) curve\n",
        "def plot_roc(fpr, tpr):\n",
        "\n",
        "    plt.plot(fpr, tpr, color='green', label='ROC')\n",
        "    plt.plot([0, 1], [0, 1], color='yellow', linestyle='--')\n",
        "    plt.title(\"Receiver Operating Characteristic (ROC) Curve\")\n",
        "    plt.xlabel(\"False Positive Rate\")\n",
        "    plt.ylabel(\"True Positive Rate\")\n",
        "    plt.legend()\n",
        "    plt.show()\n",
        "\n",
        "# Evaluate the performance of a classifier using the AUC score, ROC curve, and classification report\n",
        "def clf_score(clf):\n",
        "\n",
        "    # Get the predicted probabilities for the test data\n",
        "    prob = clf.predict_proba(X_test)\n",
        "    prob = prob[:, 1]\n",
        "    \n",
        "    # Calculate the AUC score\n",
        "    auc = roc_auc_score(y_test, prob)    \n",
        "    print('AUC: %.2f' % auc)\n",
        "    \n",
        "    # Plot the ROC curve\n",
        "    fpr, tpr, thresholds = roc_curve(y_test, prob, pos_label='Non_Fraudulent')\n",
        "    plot_roc(fpr, tpr)\n",
        "    \n",
        "    # Get the predicted labels for the test data\n",
        "    predicted = clf.predict(X_test)\n",
        "    \n",
        "    # Generate a classification report\n",
        "    report = classification_report(y_test, predicted)\n",
        "    print(report)\n",
        "    \n",
        "    return auc\n"
      ]
    },
    {
      "cell_type": "markdown",
      "metadata": {
        "id": "5X3nFAeCq98w"
      },
      "source": [
        "# Model Building on the imbalanced dataset"
      ]
    },
    {
      "cell_type": "markdown",
      "metadata": {
        "id": "TBKQt8sMrLCg"
      },
      "source": [
        "# **1. K-Nearest Neighbors (KNN)**"
      ]
    },
    {
      "cell_type": "code",
      "execution_count": 15,
      "metadata": {
        "id": "WF5kRJbOn4xt"
      },
      "outputs": [],
      "source": [
        "from sklearn.neighbors import KNeighborsClassifier\n",
        "from sklearn.model_selection  import cross_val_score\n",
        "from sklearn.metrics import accuracy_score, mean_squared_error\n",
        "\n",
        "knn = KNeighborsClassifier(n_neighbors=3)\n",
        "\n",
        "knn_clf = knn.fit(X_train,y_train)\n"
      ]
    },
    {
      "cell_type": "code",
      "execution_count": 16,
      "metadata": {
        "colab": {
          "base_uri": "https://localhost:8080/",
          "height": 496
        },
        "id": "Rd5a8-bBsF1d",
        "outputId": "541fe0da-76c4-4b42-b622-1239baca8140"
      },
      "outputs": [
        {
          "output_type": "stream",
          "name": "stdout",
          "text": [
            "AUC: 0.89\n"
          ]
        },
        {
          "output_type": "display_data",
          "data": {
            "text/plain": [
              "<Figure size 432x288 with 1 Axes>"
            ],
            "image/png": "[encoded data removed]"
          },
          "metadata": {
            "needs_background": "light"
          }
        },
        {
          "output_type": "stream",
          "name": "stdout",
          "text": [
            "                precision    recall  f1-score   support\n",
            "\n",
            "    Fraudulent       0.96      0.66      0.78        98\n",
            "Non_Fraudulent       1.00      1.00      1.00     56864\n",
            "\n",
            "      accuracy                           1.00     56962\n",
            "     macro avg       0.98      0.83      0.89     56962\n",
            "  weighted avg       1.00      1.00      1.00     56962\n",
            "\n"
          ]
        },
        {
          "output_type": "execute_result",
          "data": {
            "text/plain": [
              "0.8927597927888092"
            ]
          },
          "metadata": {},
          "execution_count": 16
        }
      ],
      "source": [
        "clf_score(knn_clf)"
      ]
    },
    {
      "cell_type": "markdown",
      "metadata": {
        "id": "91YkfQkkTPgX"
      },
      "source": [
        "# **Decision Tree**"
      ]
    },
    {
      "cell_type": "code",
      "execution_count": 17,
      "metadata": {
        "id": "lgnpz-yx5wnt"
      },
      "outputs": [],
      "source": [
        "from sklearn import tree\n",
        "from pprint import pprint\n",
        "\n"
      ]
    },
    {
      "cell_type": "code",
      "execution_count": 18,
      "metadata": {
        "colab": {
          "base_uri": "https://localhost:8080/"
        },
        "id": "ZWJkzD6e688P",
        "outputId": "10846e0a-22b4-43b7-dbfb-ff54aa419e50"
      },
      "outputs": [
        {
          "output_type": "stream",
          "name": "stdout",
          "text": [
            "[0.9990783207882552, 0.9992889903223684, 0.9993065461168777, 0.9994338256270712, 0.9994777151133446, 0.9994733261647172, 0.9994557703702078, 0.9994601593188351, 0.9993811582435427, 0.9994031029866794, 0.9994162698325617, 0.9993241019113871, 0.9993416577058966, 0.9993372687572691, 0.9992714345278587, 0.9992143781957032, 0.9992012113498212, 0.9992494897847222, 0.9991924334525665]\n"
          ]
        }
      ],
      "source": [
        "depth_score=[]\n",
        "dep_rng = [x for x in range(1,20)]\n",
        "for i in dep_rng:\n",
        "  clf = tree.DecisionTreeClassifier(max_depth=i)\n",
        "  score_tree = cross_val_score(estimator=clf, X=X_train, y=y_train, cv=5, n_jobs=-1)\n",
        "  depth_score.append(score_tree.mean())\n",
        "print(depth_score)"
      ]
    },
    {
      "cell_type": "code",
      "execution_count": 19,
      "metadata": {
        "colab": {
          "base_uri": "https://localhost:8080/",
          "height": 444
        },
        "id": "SuD1XxBv_N6C",
        "outputId": "05932c20-1610-4dbf-e1eb-47f923876c90"
      },
      "outputs": [
        {
          "output_type": "stream",
          "name": "stderr",
          "text": [
            "/usr/local/lib/python3.8/dist-packages/seaborn/_decorators.py:36: FutureWarning: Pass the following variables as keyword args: x, y. From version 0.12, the only valid positional argument will be `data`, and passing other arguments without an explicit keyword will result in an error or misinterpretation.\n",
            "  warnings.warn(\n"
          ]
        },
        {
          "output_type": "display_data",
          "data": {
            "text/plain": [
              "<Figure size 576x432 with 1 Axes>"
            ],
            "image/png": "[encoded data removed]"
          },
          "metadata": {
            "needs_background": "light"
          }
        }
      ],
      "source": [
        "plt.figure(figsize=(8,6))\n",
        "sns.lineplot(dep_rng,depth_score,markers=True,dashes=False)\n",
        "plt.xlabel(\"Depth\")\n",
        "plt.ylabel(\"Cross Validation Accuracy\")\n",
        "\n",
        "plt.show()"
      ]
    },
    {
      "cell_type": "code",
      "execution_count": 20,
      "metadata": {
        "colab": {
          "base_uri": "https://localhost:8080/",
          "height": 496
        },
        "id": "wNGdXLJC_T-b",
        "outputId": "40177865-60e1-4602-98d7-b30439e761a7"
      },
      "outputs": [
        {
          "output_type": "stream",
          "name": "stdout",
          "text": [
            "AUC: 0.86\n"
          ]
        },
        {
          "output_type": "display_data",
          "data": {
            "text/plain": [
              "<Figure size 432x288 with 1 Axes>"
            ],
            "image/png": "[encoded data removed]"
          },
          "metadata": {
            "needs_background": "light"
          }
        },
        {
          "output_type": "stream",
          "name": "stdout",
          "text": [
            "                precision    recall  f1-score   support\n",
            "\n",
            "    Fraudulent       0.93      0.69      0.80        98\n",
            "Non_Fraudulent       1.00      1.00      1.00     56864\n",
            "\n",
            "      accuracy                           1.00     56962\n",
            "     macro avg       0.97      0.85      0.90     56962\n",
            "  weighted avg       1.00      1.00      1.00     56962\n",
            "\n"
          ]
        },
        {
          "output_type": "execute_result",
          "data": {
            "text/plain": [
              "0.8623818161198075"
            ]
          },
          "metadata": {},
          "execution_count": 20
        }
      ],
      "source": [
        "#Fitting the model with depth=5 and plotting ROC curve\n",
        "\n",
        "dt = tree.DecisionTreeClassifier(max_depth = 5)\n",
        "dt_clf = dt.fit(X_train,y_train)\n",
        "\n",
        "#Plotting ROC\n",
        "clf_score(dt_clf)"
      ]
    },
    {
      "cell_type": "markdown",
      "metadata": {
        "id": "jgNhxXA8TYRe"
      },
      "source": [
        "# **Random Forest**"
      ]
    },
    {
      "cell_type": "code",
      "execution_count": 21,
      "metadata": {
        "id": "zmKAOcTS_b_n"
      },
      "outputs": [],
      "source": [
        "#Import libraries\n",
        "from sklearn.ensemble import RandomForestClassifier\n",
        "from sklearn.model_selection import GridSearchCV"
      ]
    },
    {
      "cell_type": "code",
      "execution_count": 22,
      "metadata": {
        "colab": {
          "base_uri": "https://localhost:8080/"
        },
        "id": "F51xrIiB_cuH",
        "outputId": "36a3cc1e-cafb-4f36-fa12-38a66646d7b9"
      },
      "outputs": [
        {
          "output_type": "stream",
          "name": "stdout",
          "text": [
            "tuned hpyerparameters :(best parameters)  {'max_depth': 5, 'n_estimators': 50}\n",
            "accuracy : 0.9681569817129961\n",
            "Training metric:\n",
            "                precision    recall  f1-score   support\n",
            "\n",
            "    Fraudulent       0.95      0.75      0.84       394\n",
            "Non_Fraudulent       1.00      1.00      1.00    227451\n",
            "\n",
            "      accuracy                           1.00    227845\n",
            "     macro avg       0.98      0.88      0.92    227845\n",
            "  weighted avg       1.00      1.00      1.00    227845\n",
            "\n",
            "Test metric:\n",
            "                precision    recall  f1-score   support\n",
            "\n",
            "    Fraudulent       0.97      0.66      0.79        98\n",
            "Non_Fraudulent       1.00      1.00      1.00     56864\n",
            "\n",
            "      accuracy                           1.00     56962\n",
            "     macro avg       0.98      0.83      0.89     56962\n",
            "  weighted avg       1.00      1.00      1.00     56962\n",
            "\n"
          ]
        }
      ],
      "source": [
        "# Using grid search cv to find the best parameters.\n",
        "\n",
        "param = {'n_estimators': [50, 60, 30], 'max_depth': [5,4, 3]}\n",
        "rfc = RandomForestClassifier()\n",
        "clf_rfc_cv = GridSearchCV(rfc, param, cv=5,scoring='roc_auc', n_jobs=-1)\n",
        "clf_rfc_cv.fit(X_train,y_train)\n",
        "\n",
        "print(\"tuned hpyerparameters :(best parameters) \",clf_rfc_cv.best_params_)\n",
        "print(\"accuracy :\",clf_rfc_cv.best_score_)\n",
        "print('Training metric:\\n'+ classification_report(y_train, clf_rfc_cv.best_estimator_.predict(X_train)))\n",
        "print('Test metric:\\n'+ classification_report(y_test, clf_rfc_cv.best_estimator_.predict(X_test)))\n",
        "\n"
      ]
    },
    {
      "cell_type": "markdown",
      "metadata": {
        "id": "rSchLreOTfV4"
      },
      "source": [
        "# **Class Imbalance Handling By Smote**\n",
        "\n",
        "Reference: https://imbalanced-learn.org/stable/references/generated/imblearn.over_sampling.SMOTE.html"
      ]
    },
    {
      "cell_type": "code",
      "execution_count": 23,
      "metadata": {
        "id": "dwp64hMvTkqz"
      },
      "outputs": [],
      "source": [
        "#importing SMOTE\n",
        "\n",
        "from imblearn.over_sampling import SMOTE\n",
        "\n",
        "sm = SMOTE()\n",
        "X_sm, y_sm = sm.fit_resample(X_train, y_train)"
      ]
    },
    {
      "cell_type": "code",
      "execution_count": 24,
      "metadata": {
        "colab": {
          "base_uri": "https://localhost:8080/"
        },
        "id": "wyIBbBvxULgs",
        "outputId": "3ba4e804-6d2e-4387-b6e3-03595ee01e2a"
      },
      "outputs": [
        {
          "output_type": "stream",
          "name": "stdout",
          "text": [
            "Resampled dataset shape Counter({'Non_Fraudulent': 227451, 'Fraudulent': 227451})\n",
            "(454902, 29)\n",
            "(454902,)\n"
          ]
        }
      ],
      "source": [
        "#CHecking shape and class count after smote\n",
        "from collections import Counter\n",
        "\n",
        "print('Resampled dataset shape %s' % Counter(y_sm))\n",
        "print(X_sm.shape)\n",
        "print(y_sm.shape)"
      ]
    },
    {
      "cell_type": "markdown",
      "metadata": {
        "id": "Oedp6RppUaGr"
      },
      "source": [
        "# **1. K-Nearest Neighbors (KNN) on SMOTE**"
      ]
    },
    {
      "cell_type": "code",
      "execution_count": 25,
      "metadata": {
        "colab": {
          "base_uri": "https://localhost:8080/",
          "height": 496
        },
        "id": "OFbpT9PUUeAw",
        "outputId": "85c5cf02-500c-48d0-fecc-d0c8c4e8a595"
      },
      "outputs": [
        {
          "output_type": "stream",
          "name": "stdout",
          "text": [
            "AUC: 0.94\n"
          ]
        },
        {
          "output_type": "display_data",
          "data": {
            "text/plain": [
              "<Figure size 432x288 with 1 Axes>"
            ],
            "image/png": "[encoded data removed]"
          },
          "metadata": {
            "needs_background": "light"
          }
        },
        {
          "output_type": "stream",
          "name": "stdout",
          "text": [
            "                precision    recall  f1-score   support\n",
            "\n",
            "    Fraudulent       0.36      0.86      0.51        98\n",
            "Non_Fraudulent       1.00      1.00      1.00     56864\n",
            "\n",
            "      accuracy                           1.00     56962\n",
            "     macro avg       0.68      0.93      0.75     56962\n",
            "  weighted avg       1.00      1.00      1.00     56962\n",
            "\n"
          ]
        },
        {
          "output_type": "execute_result",
          "data": {
            "text/plain": [
              "0.9379395557463278"
            ]
          },
          "metadata": {},
          "execution_count": 25
        }
      ],
      "source": [
        "# KNN with SMOTE re-sampled data\n",
        "\n",
        "knn = KNeighborsClassifier(n_neighbors=3)\n",
        "\n",
        "knn_sm = knn.fit(X_sm,y_sm)\n",
        "\n",
        "#Printing ROC \n",
        "\n",
        "clf_score(knn_sm)"
      ]
    },
    {
      "cell_type": "markdown",
      "metadata": {
        "id": "rmzRZO9GUldq"
      },
      "source": [
        "# **Decision Tree on Smote**"
      ]
    },
    {
      "cell_type": "code",
      "execution_count": 26,
      "metadata": {
        "colab": {
          "base_uri": "https://localhost:8080/",
          "height": 496
        },
        "id": "ockav7vMUrX1",
        "outputId": "a7efec2d-df61-492c-fe3d-8cbf4407845a"
      },
      "outputs": [
        {
          "output_type": "stream",
          "name": "stdout",
          "text": [
            "AUC: 0.96\n"
          ]
        },
        {
          "output_type": "display_data",
          "data": {
            "text/plain": [
              "<Figure size 432x288 with 1 Axes>"
            ],
            "image/png": "[encoded data removed]"
          },
          "metadata": {
            "needs_background": "light"
          }
        },
        {
          "output_type": "stream",
          "name": "stdout",
          "text": [
            "                precision    recall  f1-score   support\n",
            "\n",
            "    Fraudulent       0.04      0.90      0.08        98\n",
            "Non_Fraudulent       1.00      0.97      0.98     56864\n",
            "\n",
            "      accuracy                           0.97     56962\n",
            "     macro avg       0.52      0.93      0.53     56962\n",
            "  weighted avg       1.00      0.97      0.98     56962\n",
            "\n"
          ]
        },
        {
          "output_type": "execute_result",
          "data": {
            "text/plain": [
              "0.9585615302677064"
            ]
          },
          "metadata": {},
          "execution_count": 26
        }
      ],
      "source": [
        "dt = tree.DecisionTreeClassifier(max_depth = 5)\n",
        "dt_sm = dt.fit(X_sm,y_sm)\n",
        "\n",
        "#Plotting ROC\n",
        "clf_score(dt_sm)"
      ]
    },
    {
      "cell_type": "markdown",
      "metadata": {
        "id": "rhN55gjRU1p4"
      },
      "source": [
        "# **Random Forest on SMOTE**"
      ]
    },
    {
      "cell_type": "code",
      "execution_count": 27,
      "metadata": {
        "colab": {
          "base_uri": "https://localhost:8080/",
          "height": 496
        },
        "id": "ZX6iPv9QU2vG",
        "outputId": "dcee35c4-e6e9-4d2d-b06a-b63a389ffecb"
      },
      "outputs": [
        {
          "output_type": "stream",
          "name": "stdout",
          "text": [
            "AUC: 0.98\n"
          ]
        },
        {
          "output_type": "display_data",
          "data": {
            "text/plain": [
              "<Figure size 432x288 with 1 Axes>"
            ],
            "image/png": "[encoded data removed]"
          },
          "metadata": {
            "needs_background": "light"
          }
        },
        {
          "output_type": "stream",
          "name": "stdout",
          "text": [
            "                precision    recall  f1-score   support\n",
            "\n",
            "    Fraudulent       0.49      0.86      0.62        98\n",
            "Non_Fraudulent       1.00      1.00      1.00     56864\n",
            "\n",
            "      accuracy                           1.00     56962\n",
            "     macro avg       0.75      0.93      0.81     56962\n",
            "  weighted avg       1.00      1.00      1.00     56962\n",
            "\n"
          ]
        },
        {
          "output_type": "execute_result",
          "data": {
            "text/plain": [
              "0.9839520431132498"
            ]
          },
          "metadata": {},
          "execution_count": 27
        }
      ],
      "source": [
        "#Building Random forest with best parameters on SMOTE\n",
        "rf = RandomForestClassifier(max_depth=9, n_estimators=30)\n",
        "RFC_sm = rf.fit(X_sm,y_sm)\n",
        "\n",
        "#Plotting ROC\n",
        "clf_score(RFC_sm)"
      ]
    }
  ],
  "metadata": {
    "colab": {
      "provenance": []
    },
    "kernelspec": {
      "display_name": "Python 3",
      "name": "python3"
    },
    "language_info": {
      "name": "python"
    }
  },
  "nbformat": 4,
  "nbformat_minor": 0
}